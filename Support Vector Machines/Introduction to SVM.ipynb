{
 "cells": [
  {
   "cell_type": "markdown",
   "id": "b62582df",
   "metadata": {},
   "source": [
    "## Support Vector Machines (SVM):\n",
    "- It is one of the most recent algorithms we will learn about.\n",
    "- 1960s: Alexey Chervonenkis and Vladimir Vapnik begin the development of Support Vector Machines.\n",
    "- 1963: They publish their article known as: \"Generalized Portrait Algorithm\"\n",
    "- 1964: Aizerman, Braverman, and Rozonoer publish \"Theoretical Foundations of the Potential Function Method\" in \n",
    "pattern recognition learning.\n",
    "- Introduces the geometrical interpretation of kernels as inner products in a feature space."
   ]
  },
  {
   "cell_type": "code",
   "execution_count": null,
   "id": "429558bc",
   "metadata": {},
   "outputs": [],
   "source": []
  }
 ],
 "metadata": {
  "kernelspec": {
   "display_name": "Python 3 (ipykernel)",
   "language": "python",
   "name": "python3"
  },
  "language_info": {
   "codemirror_mode": {
    "name": "ipython",
    "version": 3
   },
   "file_extension": ".py",
   "mimetype": "text/x-python",
   "name": "python",
   "nbconvert_exporter": "python",
   "pygments_lexer": "ipython3",
   "version": "3.9.7"
  }
 },
 "nbformat": 4,
 "nbformat_minor": 5
}
