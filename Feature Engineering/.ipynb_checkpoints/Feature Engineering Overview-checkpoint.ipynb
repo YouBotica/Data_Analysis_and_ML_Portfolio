{
 "cells": [
  {
   "cell_type": "markdown",
   "id": "3a01181e",
   "metadata": {},
   "source": [
    "## Feature Engineering:\n"
   ]
  },
  {
   "cell_type": "markdown",
   "id": "47d39840",
   "metadata": {},
   "source": [
    "### For string data:\n",
    "\n",
    "- It doesn't make any sense to perform mathematical operations on numeric data.\n",
    "Two approaches:\n",
    "1. Integer encoding: Directly convert categories into integers.\n",
    "    - Possible issue is implied ordering and relationship (ordinal variable).\n",
    "    PROS:\n",
    "    - Very easy to do and understand.\n",
    "    - Does not increase the number of features.\n",
    "    CONS:\n",
    "    - Implies ordered relationships between categories.\n",
    "2. One hot encoding:\n",
    "    Convert categories into individual features that are either 0 or 1.\n",
    "    - We can try to reduce this feature column expansion by creating higher level categories.\n",
    "    - For example, regions or continents instead of countries.\n",
    "\n"
   ]
  },
  {
   "cell_type": "code",
   "execution_count": null,
   "id": "836052b7",
   "metadata": {},
   "outputs": [],
   "source": []
  }
 ],
 "metadata": {
  "kernelspec": {
   "display_name": "Python 3 (ipykernel)",
   "language": "python",
   "name": "python3"
  },
  "language_info": {
   "codemirror_mode": {
    "name": "ipython",
    "version": 3
   },
   "file_extension": ".py",
   "mimetype": "text/x-python",
   "name": "python",
   "nbconvert_exporter": "python",
   "pygments_lexer": "ipython3",
   "version": "3.9.7"
  }
 },
 "nbformat": 4,
 "nbformat_minor": 5
}
