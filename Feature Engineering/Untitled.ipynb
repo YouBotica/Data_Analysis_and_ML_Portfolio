{
 "cells": [
  {
   "cell_type": "markdown",
   "id": "66b258b8",
   "metadata": {},
   "source": [
    "## Feature Engineering:\n"
   ]
  },
  {
   "cell_type": "markdown",
   "id": "87b398a1",
   "metadata": {},
   "source": [
    "### For string data:\n",
    "\n",
    "- It doesn't make any sense to perform mathematical operations on numeric data.\n",
    "Two approaches:\n",
    "1. Integer encoding: Directly convert categories into integers.\n",
    "    - Possible issue is implied ordering and relationship (ordinal variable).\n"
   ]
  },
  {
   "cell_type": "code",
   "execution_count": null,
   "id": "c1a36511",
   "metadata": {},
   "outputs": [],
   "source": []
  }
 ],
 "metadata": {
  "kernelspec": {
   "display_name": "Python 3 (ipykernel)",
   "language": "python",
   "name": "python3"
  },
  "language_info": {
   "codemirror_mode": {
    "name": "ipython",
    "version": 3
   },
   "file_extension": ".py",
   "mimetype": "text/x-python",
   "name": "python",
   "nbconvert_exporter": "python",
   "pygments_lexer": "ipython3",
   "version": "3.9.7"
  }
 },
 "nbformat": 4,
 "nbformat_minor": 5
}
