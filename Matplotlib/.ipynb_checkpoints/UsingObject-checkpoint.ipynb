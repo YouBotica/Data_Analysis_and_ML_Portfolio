{
 "cells": [
  {
   "cell_type": "markdown",
   "id": "5d321e1f",
   "metadata": {},
   "source": [
    "## Using the objects for plotting"
   ]
  },
  {
   "cell_type": "code",
   "execution_count": 2,
   "id": "9cee72e6",
   "metadata": {},
   "outputs": [
    {
     "data": {
      "text/plain": [
       "<Figure size 432x288 with 0 Axes>"
      ]
     },
     "metadata": {},
     "output_type": "display_data"
    }
   ],
   "source": [
    "import matplotlib.pyplot as plt\n",
    "import numpy as np\n",
    "\n",
    "# The empty figure object is:\n",
    "fig = plt.figure() # We  added a size specification of 10 by 10 inches"
   ]
  },
  {
   "cell_type": "code",
   "execution_count": 3,
   "id": "668eea92",
   "metadata": {},
   "outputs": [],
   "source": [
    "# Adding axes:\n",
    "axes = fig.add_axes([0, 0, 1, 1]) #x, y, width and height x, y is the origin point of the axes"
   ]
  },
  {
   "cell_type": "code",
   "execution_count": 4,
   "id": "d9cf0472",
   "metadata": {},
   "outputs": [
    {
     "data": {
      "image/png": "[encoded data removed]",
      "text/plain": [
       "<Figure size 432x288 with 1 Axes>"
      ]
     },
     "execution_count": 4,
     "metadata": {},
     "output_type": "execute_result"
    }
   ],
   "source": [
    "fig"
   ]
  },
  {
   "cell_type": "code",
   "execution_count": 5,
   "id": "2de3bdc2",
   "metadata": {},
   "outputs": [],
   "source": [
    "# Let's use these methods for a real function:\n",
    "a = np.linspace(0, 10, 11)"
   ]
  },
  {
   "cell_type": "code",
   "execution_count": 6,
   "id": "8037eda3",
   "metadata": {},
   "outputs": [],
   "source": [
    "b = a**4"
   ]
  },
  {
   "cell_type": "code",
   "execution_count": 7,
   "id": "5f9b4030",
   "metadata": {},
   "outputs": [],
   "source": [
    "x = np.arange(0, 10)\n",
    "y = 2*x"
   ]
  },
  {
   "cell_type": "code",
   "execution_count": 15,
   "id": "2d32ecc5",
   "metadata": {},
   "outputs": [
    {
     "data": {
      "text/plain": [
       "[<matplotlib.lines.Line2D at 0x7f952ab356d0>]"
      ]
     },
     "execution_count": 15,
     "metadata": {},
     "output_type": "execute_result"
    },
    {
     "data": {
      "image/png": "[encoded data removed]",
      "text/plain": [
       "<Figure size 432x288 with 2 Axes>"
      ]
     },
     "metadata": {
      "needs_background": "light"
     },
     "output_type": "display_data"
    }
   ],
   "source": [
    "# Create the empty figure object:\n",
    "fig = plt.figure()\n",
    "axes1 = fig.add_axes([0, 0, 1, 1])\n",
    "axes1.plot(a,b)\n",
    "\n",
    "axes1.set_xlim(0,8)\n",
    "axes1.set_ylim(0,8000)\n",
    "axes1.set_xlabel('A')\n",
    "axes1.set_ylabel('B')\n",
    "axes1.set_title('Power of 4')\n",
    "\n",
    "# NOTE: All these commands must be on the same cell.\n",
    "# Zoomed in plot:\n",
    "\n",
    "# Small axes:\n",
    "axes2 = fig.add_axes([0.2, 0.5, 0.25, 0.25])\n",
    "axes2.plot(a,b)\n",
    "\n",
    "axes2.set_xlim(0,8)\n",
    "axes2.set_ylim(0,8000)\n",
    "axes2.set_xlabel('A')\n",
    "axes2.set_ylabel('B')\n",
    "axes2.set_title('Zoomed In')"
   ]
  },
  {
   "cell_type": "code",
   "execution_count": null,
   "id": "c4c7d83b",
   "metadata": {},
   "outputs": [],
   "source": []
  }
 ],
 "metadata": {
  "kernelspec": {
   "display_name": "Python 3 (ipykernel)",
   "language": "python",
   "name": "python3"
  },
  "language_info": {
   "codemirror_mode": {
    "name": "ipython",
    "version": 3
   },
   "file_extension": ".py",
   "mimetype": "text/x-python",
   "name": "python",
   "nbconvert_exporter": "python",
   "pygments_lexer": "ipython3",
   "version": "3.9.7"
  }
 },
 "nbformat": 4,
 "nbformat_minor": 5
}
