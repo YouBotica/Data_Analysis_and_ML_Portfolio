{
 "cells": [
  {
   "cell_type": "markdown",
   "id": "e375041f",
   "metadata": {},
   "source": [
    "## Sub plots:\n",
    "-The plt.subplots() method allows us to easily create Figure and Axes objects in side by side formations.\n",
    "-The plt.subplots() command returns a tuple containing the Figure canvas and then a numpy array holding the axes objects.\n"
   ]
  },
  {
   "cell_type": "code",
   "execution_count": null,
   "id": "9d3eaa9d",
   "metadata": {},
   "outputs": [],
   "source": []
  }
 ],
 "metadata": {
  "kernelspec": {
   "display_name": "Python 3 (ipykernel)",
   "language": "python",
   "name": "python3"
  },
  "language_info": {
   "codemirror_mode": {
    "name": "ipython",
    "version": 3
   },
   "file_extension": ".py",
   "mimetype": "text/x-python",
   "name": "python",
   "nbconvert_exporter": "python",
   "pygments_lexer": "ipython3",
   "version": "3.9.7"
  }
 },
 "nbformat": 4,
 "nbformat_minor": 5
}
