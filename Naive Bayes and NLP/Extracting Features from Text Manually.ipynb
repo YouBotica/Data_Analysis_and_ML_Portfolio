{
 "cells": [
  {
   "cell_type": "markdown",
   "id": "fb7087bf",
   "metadata": {},
   "source": [
    "## Natural Language Processing:\n",
    "- Consists on extracting features from text data.\n"
   ]
  },
  {
   "cell_type": "markdown",
   "id": "f7cf9d07",
   "metadata": {},
   "source": [
    "## Objective: \n",
    "- Manually transform text data into numeric data."
   ]
  },
  {
   "cell_type": "code",
   "execution_count": 2,
   "id": "6a85598c",
   "metadata": {},
   "outputs": [],
   "source": [
    "with open('One.txt') as mytext:\n",
    "    a = mytext.read()"
   ]
  },
  {
   "cell_type": "code",
   "execution_count": 3,
   "id": "1500d1e7",
   "metadata": {},
   "outputs": [
    {
     "data": {
      "text/plain": [
       "'This is a story about dogs\\nour canine pets\\nDogs are furry animals\\n'"
      ]
     },
     "execution_count": 3,
     "metadata": {},
     "output_type": "execute_result"
    }
   ],
   "source": [
    "a"
   ]
  },
  {
   "cell_type": "code",
   "execution_count": 4,
   "id": "9671c635",
   "metadata": {},
   "outputs": [
    {
     "name": "stdout",
     "output_type": "stream",
     "text": [
      "This is a story about dogs\n",
      "our canine pets\n",
      "Dogs are furry animals\n",
      "\n"
     ]
    }
   ],
   "source": [
    "print(a)"
   ]
  },
  {
   "cell_type": "markdown",
   "id": "e8afc086",
   "metadata": {},
   "source": [
    "#### Create a list with the lines of the text:"
   ]
  },
  {
   "cell_type": "code",
   "execution_count": 6,
   "id": "1bad5521",
   "metadata": {},
   "outputs": [],
   "source": [
    "with open('One.txt') as mytext:\n",
    "    a = mytext.readlines()"
   ]
  },
  {
   "cell_type": "code",
   "execution_count": 7,
   "id": "333d4890",
   "metadata": {},
   "outputs": [
    {
     "data": {
      "text/plain": [
       "['This is a story about dogs\\n',\n",
       " 'our canine pets\\n',\n",
       " 'Dogs are furry animals\\n']"
      ]
     },
     "execution_count": 7,
     "metadata": {},
     "output_type": "execute_result"
    }
   ],
   "source": [
    "a"
   ]
  },
  {
   "cell_type": "markdown",
   "id": "82838653",
   "metadata": {},
   "source": [
    "#### Split the text by words:"
   ]
  },
  {
   "cell_type": "code",
   "execution_count": 8,
   "id": "49797910",
   "metadata": {},
   "outputs": [],
   "source": [
    "with open('One.txt') as mytext:\n",
    "    a = mytext.read()"
   ]
  },
  {
   "cell_type": "code",
   "execution_count": 9,
   "id": "4e3ac402",
   "metadata": {},
   "outputs": [
    {
     "data": {
      "text/plain": [
       "['this',\n",
       " 'is',\n",
       " 'a',\n",
       " 'story',\n",
       " 'about',\n",
       " 'dogs',\n",
       " 'our',\n",
       " 'canine',\n",
       " 'pets',\n",
       " 'dogs',\n",
       " 'are',\n",
       " 'furry',\n",
       " 'animals']"
      ]
     },
     "execution_count": 9,
     "metadata": {},
     "output_type": "execute_result"
    }
   ],
   "source": [
    "a.lower().split()"
   ]
  },
  {
   "cell_type": "markdown",
   "id": "1a03fd12",
   "metadata": {},
   "source": [
    "#### Create sets for both One.txt and Two.txt :"
   ]
  },
  {
   "cell_type": "code",
   "execution_count": 10,
   "id": "f519ac8c",
   "metadata": {},
   "outputs": [],
   "source": [
    "with open('One.txt') as mytext:\n",
    "    words_one = mytext.read().lower().split()\n",
    "    uni_words_one = set(words_one)"
   ]
  },
  {
   "cell_type": "code",
   "execution_count": 11,
   "id": "8ec13017",
   "metadata": {},
   "outputs": [
    {
     "data": {
      "text/plain": [
       "{'a',\n",
       " 'about',\n",
       " 'animals',\n",
       " 'are',\n",
       " 'canine',\n",
       " 'dogs',\n",
       " 'furry',\n",
       " 'is',\n",
       " 'our',\n",
       " 'pets',\n",
       " 'story',\n",
       " 'this'}"
      ]
     },
     "execution_count": 11,
     "metadata": {},
     "output_type": "execute_result"
    }
   ],
   "source": [
    "uni_words_one"
   ]
  },
  {
   "cell_type": "code",
   "execution_count": 12,
   "id": "5207d921",
   "metadata": {},
   "outputs": [],
   "source": [
    "with open('Two.txt') as mytext:\n",
    "    words_two = mytext.read().lower().split()\n",
    "    uni_words_two = set(words_two)"
   ]
  },
  {
   "cell_type": "code",
   "execution_count": 13,
   "id": "f3dfb3ce",
   "metadata": {},
   "outputs": [
    {
     "data": {
      "text/plain": [
       "{'a',\n",
       " 'about',\n",
       " 'catching',\n",
       " 'fun',\n",
       " 'is',\n",
       " 'popular',\n",
       " 'sport',\n",
       " 'story',\n",
       " 'surfing',\n",
       " 'this',\n",
       " 'water',\n",
       " 'waves'}"
      ]
     },
     "execution_count": 13,
     "metadata": {},
     "output_type": "execute_result"
    }
   ],
   "source": [
    "uni_words_two"
   ]
  },
  {
   "cell_type": "markdown",
   "id": "ec5c0ba3",
   "metadata": {},
   "source": [
    "Create a set with all the unique words from One.txt and Two.txt : "
   ]
  },
  {
   "cell_type": "code",
   "execution_count": 14,
   "id": "02e4df3d",
   "metadata": {},
   "outputs": [],
   "source": [
    "all_uni_words = set()"
   ]
  },
  {
   "cell_type": "code",
   "execution_count": 15,
   "id": "0eeaa87b",
   "metadata": {},
   "outputs": [],
   "source": [
    "all_uni_words.update(uni_words_one)"
   ]
  },
  {
   "cell_type": "code",
   "execution_count": 16,
   "id": "cc004af0",
   "metadata": {},
   "outputs": [],
   "source": [
    "all_uni_words.update(uni_words_two)"
   ]
  },
  {
   "cell_type": "markdown",
   "id": "cced9689",
   "metadata": {},
   "source": [
    "Create a dictionary with the vocabulary to assign indices to each word:"
   ]
  },
  {
   "cell_type": "code",
   "execution_count": 17,
   "id": "74d1a674",
   "metadata": {},
   "outputs": [],
   "source": [
    "full_vocab = dict()\n",
    "i = 0\n",
    "\n",
    "for word in all_uni_words:\n",
    "    full_vocab[word] = i\n",
    "    i = i + 1"
   ]
  },
  {
   "cell_type": "code",
   "execution_count": 19,
   "id": "18004276",
   "metadata": {},
   "outputs": [
    {
     "data": {
      "text/plain": [
       "{'fun': 0,\n",
       " 'furry': 1,\n",
       " 'a': 2,\n",
       " 'popular': 3,\n",
       " 'about': 4,\n",
       " 'animals': 5,\n",
       " 'catching': 6,\n",
       " 'our': 7,\n",
       " 'sport': 8,\n",
       " 'this': 9,\n",
       " 'is': 10,\n",
       " 'story': 11,\n",
       " 'pets': 12,\n",
       " 'are': 13,\n",
       " 'canine': 14,\n",
       " 'surfing': 15,\n",
       " 'waves': 16,\n",
       " 'dogs': 17,\n",
       " 'water': 18}"
      ]
     },
     "execution_count": 19,
     "metadata": {},
     "output_type": "execute_result"
    }
   ],
   "source": [
    "full_vocab # It is completely normal to have this set in a different order because Python iterates through it using the most efficient way"
   ]
  },
  {
   "cell_type": "markdown",
   "id": "a60044df",
   "metadata": {},
   "source": [
    "#### Creation of frequency lists:"
   ]
  },
  {
   "cell_type": "code",
   "execution_count": 20,
   "id": "6af97804",
   "metadata": {},
   "outputs": [],
   "source": [
    "one_freq = [0]*len(full_vocab)"
   ]
  },
  {
   "cell_type": "code",
   "execution_count": 21,
   "id": "4d56f237",
   "metadata": {},
   "outputs": [],
   "source": [
    "two_freq = [0]*len(full_vocab)"
   ]
  },
  {
   "cell_type": "code",
   "execution_count": 22,
   "id": "023078dc",
   "metadata": {},
   "outputs": [],
   "source": [
    "all_words = ['']*len(full_vocab)"
   ]
  },
  {
   "cell_type": "code",
   "execution_count": 23,
   "id": "9b445d37",
   "metadata": {},
   "outputs": [],
   "source": [
    "with open('One.txt') as f:\n",
    "    one_text = f.read().lower().split()"
   ]
  },
  {
   "cell_type": "code",
   "execution_count": 24,
   "id": "55d3759c",
   "metadata": {},
   "outputs": [],
   "source": [
    "for word in one_text:\n",
    "    word_ind = full_vocab[word]\n",
    "    one_freq[word_ind] += 1"
   ]
  },
  {
   "cell_type": "code",
   "execution_count": 25,
   "id": "71f79bf4",
   "metadata": {},
   "outputs": [
    {
     "data": {
      "text/plain": [
       "[0, 1, 1, 0, 1, 1, 0, 1, 0, 1, 1, 1, 1, 1, 1, 0, 0, 2, 0]"
      ]
     },
     "execution_count": 25,
     "metadata": {},
     "output_type": "execute_result"
    }
   ],
   "source": [
    "one_freq"
   ]
  },
  {
   "cell_type": "code",
   "execution_count": 26,
   "id": "ef6a397a",
   "metadata": {},
   "outputs": [],
   "source": [
    "with open('Two.txt') as f:\n",
    "    two_text = f.read().lower().split()"
   ]
  },
  {
   "cell_type": "code",
   "execution_count": 27,
   "id": "47ebeadf",
   "metadata": {},
   "outputs": [],
   "source": [
    "for word in two_text:\n",
    "    word_ind = full_vocab[word]\n",
    "    two_freq[word_ind] += 1"
   ]
  },
  {
   "cell_type": "code",
   "execution_count": 28,
   "id": "e6af4d8f",
   "metadata": {},
   "outputs": [
    {
     "data": {
      "text/plain": [
       "[1, 0, 1, 1, 1, 0, 1, 0, 1, 1, 3, 1, 0, 0, 0, 2, 1, 0, 1]"
      ]
     },
     "execution_count": 28,
     "metadata": {},
     "output_type": "execute_result"
    }
   ],
   "source": [
    "two_freq"
   ]
  },
  {
   "cell_type": "code",
   "execution_count": 29,
   "id": "6dd64d21",
   "metadata": {},
   "outputs": [],
   "source": [
    "# Now, fill all_words list:\n",
    "for word in full_vocab:\n",
    "    word_ind = full_vocab[word]\n",
    "    all_words[word_ind] = word"
   ]
  },
  {
   "cell_type": "code",
   "execution_count": 30,
   "id": "cc7f1fcb",
   "metadata": {},
   "outputs": [
    {
     "data": {
      "text/plain": [
       "['fun',\n",
       " 'furry',\n",
       " 'a',\n",
       " 'popular',\n",
       " 'about',\n",
       " 'animals',\n",
       " 'catching',\n",
       " 'our',\n",
       " 'sport',\n",
       " 'this',\n",
       " 'is',\n",
       " 'story',\n",
       " 'pets',\n",
       " 'are',\n",
       " 'canine',\n",
       " 'surfing',\n",
       " 'waves',\n",
       " 'dogs',\n",
       " 'water']"
      ]
     },
     "execution_count": 30,
     "metadata": {},
     "output_type": "execute_result"
    }
   ],
   "source": [
    "all_words"
   ]
  },
  {
   "cell_type": "markdown",
   "id": "2cb53c67",
   "metadata": {},
   "source": [
    "#### Create a Data Frame to organize everything:"
   ]
  },
  {
   "cell_type": "code",
   "execution_count": 31,
   "id": "85da8dec",
   "metadata": {},
   "outputs": [],
   "source": [
    "import pandas as pd"
   ]
  },
  {
   "cell_type": "code",
   "execution_count": 34,
   "id": "06e21b91",
   "metadata": {},
   "outputs": [],
   "source": [
    "bow = pd.DataFrame(data=[one_freq, two_freq], columns=all_words)"
   ]
  },
  {
   "cell_type": "code",
   "execution_count": 35,
   "id": "1068ba78",
   "metadata": {},
   "outputs": [
    {
     "data": {
      "text/html": [
       "<div>\n",
       "<style scoped>\n",
       "    .dataframe tbody tr th:only-of-type {\n",
       "        vertical-align: middle;\n",
       "    }\n",
       "\n",
       "    .dataframe tbody tr th {\n",
       "        vertical-align: top;\n",
       "    }\n",
       "\n",
       "    .dataframe thead th {\n",
       "        text-align: right;\n",
       "    }\n",
       "</style>\n",
       "<table border=\"1\" class=\"dataframe\">\n",
       "  <thead>\n",
       "    <tr style=\"text-align: right;\">\n",
       "      <th></th>\n",
       "      <th>fun</th>\n",
       "      <th>furry</th>\n",
       "      <th>a</th>\n",
       "      <th>popular</th>\n",
       "      <th>about</th>\n",
       "      <th>animals</th>\n",
       "      <th>catching</th>\n",
       "      <th>our</th>\n",
       "      <th>sport</th>\n",
       "      <th>this</th>\n",
       "      <th>is</th>\n",
       "      <th>story</th>\n",
       "      <th>pets</th>\n",
       "      <th>are</th>\n",
       "      <th>canine</th>\n",
       "      <th>surfing</th>\n",
       "      <th>waves</th>\n",
       "      <th>dogs</th>\n",
       "      <th>water</th>\n",
       "    </tr>\n",
       "  </thead>\n",
       "  <tbody>\n",
       "    <tr>\n",
       "      <th>0</th>\n",
       "      <td>0</td>\n",
       "      <td>1</td>\n",
       "      <td>1</td>\n",
       "      <td>0</td>\n",
       "      <td>1</td>\n",
       "      <td>1</td>\n",
       "      <td>0</td>\n",
       "      <td>1</td>\n",
       "      <td>0</td>\n",
       "      <td>1</td>\n",
       "      <td>1</td>\n",
       "      <td>1</td>\n",
       "      <td>1</td>\n",
       "      <td>1</td>\n",
       "      <td>1</td>\n",
       "      <td>0</td>\n",
       "      <td>0</td>\n",
       "      <td>2</td>\n",
       "      <td>0</td>\n",
       "    </tr>\n",
       "    <tr>\n",
       "      <th>1</th>\n",
       "      <td>1</td>\n",
       "      <td>0</td>\n",
       "      <td>1</td>\n",
       "      <td>1</td>\n",
       "      <td>1</td>\n",
       "      <td>0</td>\n",
       "      <td>1</td>\n",
       "      <td>0</td>\n",
       "      <td>1</td>\n",
       "      <td>1</td>\n",
       "      <td>3</td>\n",
       "      <td>1</td>\n",
       "      <td>0</td>\n",
       "      <td>0</td>\n",
       "      <td>0</td>\n",
       "      <td>2</td>\n",
       "      <td>1</td>\n",
       "      <td>0</td>\n",
       "      <td>1</td>\n",
       "    </tr>\n",
       "  </tbody>\n",
       "</table>\n",
       "</div>"
      ],
      "text/plain": [
       "   fun  furry  a  popular  about  animals  catching  our  sport  this  is  \\\n",
       "0    0      1  1        0      1        1         0    1      0     1   1   \n",
       "1    1      0  1        1      1        0         1    0      1     1   3   \n",
       "\n",
       "   story  pets  are  canine  surfing  waves  dogs  water  \n",
       "0      1     1    1       1        0      0     2      0  \n",
       "1      1     0    0       0        2      1     0      1  "
      ]
     },
     "execution_count": 35,
     "metadata": {},
     "output_type": "execute_result"
    }
   ],
   "source": [
    "bow"
   ]
  },
  {
   "cell_type": "code",
   "execution_count": null,
   "id": "6e39c80a",
   "metadata": {},
   "outputs": [],
   "source": []
  }
 ],
 "metadata": {
  "kernelspec": {
   "display_name": "Python 3 (ipykernel)",
   "language": "python",
   "name": "python3"
  },
  "language_info": {
   "codemirror_mode": {
    "name": "ipython",
    "version": 3
   },
   "file_extension": ".py",
   "mimetype": "text/x-python",
   "name": "python",
   "nbconvert_exporter": "python",
   "pygments_lexer": "ipython3",
   "version": "3.9.7"
  }
 },
 "nbformat": 4,
 "nbformat_minor": 5
}
