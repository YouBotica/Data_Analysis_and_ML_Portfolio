{
 "cells": [
  {
   "cell_type": "markdown",
   "id": "16b53e89",
   "metadata": {},
   "source": [
    "## ROC Curves\n",
    "\n",
    "History: The US Army wanted to develop a methodology to evaluate radar operator performance.\n",
    "- They developed the Receiver Operator Characteristic Curve. X: False Positive Rate, Y: True Positive Rate\n",
    "\n",
    "- There is a tradeoff between false positives and true positives.\n",
    "\n",
    "- In certain situations, we gladly accept more false positives to reduce false negatives.\n",
    "E.g: Imagine a dangerous virus test, we would much rather produce false positives and later do more stringent examination than accidentally release a false negative.\n",
    "\n",
    "- Many times the curve is measured using AUC (Area Under the Curve),in order to be able to compare it and see which one is doing better. The prefect AUC score will be 1."
   ]
  },
  {
   "cell_type": "code",
   "execution_count": null,
   "id": "95675506",
   "metadata": {},
   "outputs": [],
   "source": []
  }
 ],
 "metadata": {
  "kernelspec": {
   "display_name": "Python 3 (ipykernel)",
   "language": "python",
   "name": "python3"
  },
  "language_info": {
   "codemirror_mode": {
    "name": "ipython",
    "version": 3
   },
   "file_extension": ".py",
   "mimetype": "text/x-python",
   "name": "python",
   "nbconvert_exporter": "python",
   "pygments_lexer": "ipython3",
   "version": "3.9.7"
  }
 },
 "nbformat": 4,
 "nbformat_minor": 5
}
