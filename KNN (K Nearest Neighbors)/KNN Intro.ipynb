{
 "cells": [
  {
   "cell_type": "markdown",
   "id": "6c5402a8",
   "metadata": {},
   "source": [
    "## KNN Overview:"
   ]
  },
  {
   "cell_type": "markdown",
   "id": "7f50dd06",
   "metadata": {},
   "source": [
    "- What happens if there is a tie with a given value of K:\n",
    "    Then:\n",
    "        1. Always choose an odd K.\n",
    "        2. In case of tie, simply reduce K by 1 until tie is broken.\n",
    "        3. Randomly break tie.\n",
    "        4. Choose nearest class point."
   ]
  },
  {
   "cell_type": "markdown",
   "id": "d1cb66e4",
   "metadata": {},
   "source": [
    "- What does scikit learn do in case of a tie?\n",
    "    1. In the case of ties, the answer will be the class that happens to appear first in the set of neighbors.\n",
    "    2. Results are ordered by distance, so it chooses the class of the closest point.\n",
    "    \n",
    "- How to choose the value of K?\n",
    "    - We want a K value that minimizes error:\n",
    "        error = 1 - Accuracy\n",
    "Two methods:\n",
    "\n",
    "- Elbow method.\n",
    "- Cross validate grid search of multiple K values, and choose K that results in lowest error, or highest accuracy."
   ]
  },
  {
   "cell_type": "markdown",
   "id": "d971f2db",
   "metadata": {},
   "source": [
    "#### Elbow method:\n",
    "\n",
    "Check until you find an elbow, then the error shouldn't decrease that much (1-2%)"
   ]
  },
  {
   "cell_type": "markdown",
   "id": "72f00c9c",
   "metadata": {},
   "source": [
    "#### KNN Algorithm:\n",
    "\n",
    "1. Choose a K value.\n",
    "2. Sort feature vectors (N dimensional space) by distance metric.\n",
    "3. Choose class based on K nearest feature vectors.\n",
    "\n"
   ]
  },
  {
   "cell_type": "markdown",
   "id": "5249ef7d",
   "metadata": {},
   "source": [
    "#### KNN Considerations:\n",
    "\n",
    "- Distance Metric:\n",
    "    - Many ways to measure the distance:\n",
    "        1. Minkowski\n",
    "        2. Euclidean\n",
    "        3. Manhattan\n",
    "        4. Chebyshev\n",
    "\n",
    "- Scaling is a necessity to run K nearest neighbors."
   ]
  },
  {
   "cell_type": "code",
   "execution_count": null,
   "id": "537401d7",
   "metadata": {},
   "outputs": [],
   "source": []
  }
 ],
 "metadata": {
  "kernelspec": {
   "display_name": "Python 3 (ipykernel)",
   "language": "python",
   "name": "python3"
  },
  "language_info": {
   "codemirror_mode": {
    "name": "ipython",
    "version": 3
   },
   "file_extension": ".py",
   "mimetype": "text/x-python",
   "name": "python",
   "nbconvert_exporter": "python",
   "pygments_lexer": "ipython3",
   "version": "3.9.7"
  }
 },
 "nbformat": 4,
 "nbformat_minor": 5
}
