{
 "cells": [
  {
   "cell_type": "markdown",
   "id": "87519b05",
   "metadata": {},
   "source": [
    "## Unsupervised Learning Intro:\n",
    "\n",
    "- Supervised Learning: Using historical labeled data, predict a label on new data (regression or classification).\n",
    "- Unsupervised Learning: Using unlabeled data, discover patterns, clusters, or significant components."
   ]
  },
  {
   "cell_type": "markdown",
   "id": "e76f99ac",
   "metadata": {},
   "source": [
    "### Clustering:\n",
    "- Using features, group together data rows into distinct clusters.\n",
    "- If we have unlabeled data, can we attempt to cluster or group similar data points together to \"discover\" possible labels for clusters?\n",
    "### Dimensional Reduction:\n",
    "- Using features, discover how to combine and reduce into fewer components.\n",
    "- If we have unlabeled data, can we attempt to reduce the number of features by combining them into new components? Do these new components give us further insight for the data?"
   ]
  },
  {
   "cell_type": "markdown",
   "id": "334b5598",
   "metadata": {},
   "source": [
    "Supervised learning performance metrics will not apply to unsupervised learning.\n",
    "- How can we compare to a correct label answer, if there was no label to begin with?"
   ]
  },
  {
   "cell_type": "code",
   "execution_count": null,
   "id": "49d7b8d1",
   "metadata": {},
   "outputs": [],
   "source": []
  }
 ],
 "metadata": {
  "kernelspec": {
   "display_name": "Python 3 (ipykernel)",
   "language": "python",
   "name": "python3"
  },
  "language_info": {
   "codemirror_mode": {
    "name": "ipython",
    "version": 3
   },
   "file_extension": ".py",
   "mimetype": "text/x-python",
   "name": "python",
   "nbconvert_exporter": "python",
   "pygments_lexer": "ipython3",
   "version": "3.9.7"
  }
 },
 "nbformat": 4,
 "nbformat_minor": 5
}
