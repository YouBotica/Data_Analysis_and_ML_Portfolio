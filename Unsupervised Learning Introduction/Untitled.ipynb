{
 "cells": [
  {
   "cell_type": "markdown",
   "id": "c7acfa90",
   "metadata": {},
   "source": [
    "## Unsupervised Learning Intro:\n",
    "\n",
    "- Supervised Learning: Using historical labeled data, predict a label on new data (regression or classification).\n",
    "- Unsupervised Learning: Using unlabeled data, discover patterns, clusters, or significant components."
   ]
  },
  {
   "cell_type": "markdown",
   "id": "2b1d840a",
   "metadata": {},
   "source": [
    "### Clustering:\n",
    "- Using features, group together data rows into distinct clusters.\n",
    "\n",
    "### Dimensional Reduction:\n",
    "- Using features, discover how to combine and reduce into fewer components."
   ]
  },
  {
   "cell_type": "markdown",
   "id": "de5f189e",
   "metadata": {},
   "source": [
    "Supervised learning performance metrics will not apply to unsupervised learning.\n",
    "- How can we compare to a correct label answer, if there was no label to begin with?"
   ]
  },
  {
   "cell_type": "code",
   "execution_count": null,
   "id": "01d1cbbf",
   "metadata": {},
   "outputs": [],
   "source": []
  }
 ],
 "metadata": {
  "kernelspec": {
   "display_name": "Python 3 (ipykernel)",
   "language": "python",
   "name": "python3"
  },
  "language_info": {
   "codemirror_mode": {
    "name": "ipython",
    "version": 3
   },
   "file_extension": ".py",
   "mimetype": "text/x-python",
   "name": "python",
   "nbconvert_exporter": "python",
   "pygments_lexer": "ipython3",
   "version": "3.9.7"
  }
 },
 "nbformat": 4,
 "nbformat_minor": 5
}
