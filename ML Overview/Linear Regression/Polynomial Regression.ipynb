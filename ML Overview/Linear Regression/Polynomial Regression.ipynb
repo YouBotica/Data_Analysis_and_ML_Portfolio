{
 "cells": [
  {
   "cell_type": "markdown",
   "id": "7946be91",
   "metadata": {},
   "source": [
    "## Polynomial Regression:\n",
    "\n",
    "- There are two issues polynomial regression will address for us:\n",
    "    1. Non-linear feature relationships to label.\n",
    "    2. Interaction terms between features. \n",
    "- Let's first explore non-linear relationships and how considering polynomial orders could help address this.\n",
    "\n",
    "- Scikit comes  with a polynomial features tool which combines features.\n"
   ]
  },
  {
   "cell_type": "markdown",
   "id": "57468532",
   "metadata": {},
   "source": [
    "### The features created include:\n",
    "\n",
    "1. The bias (the value of 1.0)\n",
    "2. Values raised to a power for each degree (e.g x1^1, x1^2, x2^3)\n",
    "3. Interaction between features (e.g x1*x2, x2*x3, etc.)"
   ]
  },
  {
   "cell_type": "code",
   "execution_count": null,
   "id": "a76f9e22",
   "metadata": {},
   "outputs": [],
   "source": []
  }
 ],
 "metadata": {
  "kernelspec": {
   "display_name": "Python 3 (ipykernel)",
   "language": "python",
   "name": "python3"
  },
  "language_info": {
   "codemirror_mode": {
    "name": "ipython",
    "version": 3
   },
   "file_extension": ".py",
   "mimetype": "text/x-python",
   "name": "python",
   "nbconvert_exporter": "python",
   "pygments_lexer": "ipython3",
   "version": "3.9.7"
  }
 },
 "nbformat": 4,
 "nbformat_minor": 5
}
