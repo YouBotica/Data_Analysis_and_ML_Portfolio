{
 "cells": [
  {
   "cell_type": "markdown",
   "id": "6fdc0132",
   "metadata": {},
   "source": [
    "## Cross Validation:\n"
   ]
  },
  {
   "cell_type": "markdown",
   "id": "44229343",
   "metadata": {},
   "source": [
    "- Cross validation is a more advanced set of methods for splitting the training and test sets. \n",
    "\n",
    "Is there a way in which we can achieve the following:\n",
    "    1. Train on all the data.\n",
    "    2. Evaluate on all the data.\n",
    "This sounds impossible, but we can achieve this with cross validation.\n",
    "\n",
    "Keep in mind: \n",
    "    - Previous model working.\n",
    "    - Reporting requirements.\n",
    "    - Fairness of evaluation.\n",
    "    - Context of data and model.\n"
   ]
  },
  {
   "cell_type": "code",
   "execution_count": null,
   "id": "9669cf8b",
   "metadata": {},
   "outputs": [],
   "source": []
  }
 ],
 "metadata": {
  "kernelspec": {
   "display_name": "Python 3 (ipykernel)",
   "language": "python",
   "name": "python3"
  },
  "language_info": {
   "codemirror_mode": {
    "name": "ipython",
    "version": 3
   },
   "file_extension": ".py",
   "mimetype": "text/x-python",
   "name": "python",
   "nbconvert_exporter": "python",
   "pygments_lexer": "ipython3",
   "version": "3.9.7"
  }
 },
 "nbformat": 4,
 "nbformat_minor": 5
}
