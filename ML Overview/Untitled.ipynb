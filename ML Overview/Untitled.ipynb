{
 "cells": [
  {
   "cell_type": "markdown",
   "id": "af93bd51",
   "metadata": {},
   "source": [
    "## Regularization:\n",
    "\n",
    "Seeks to solve a few common issues by:\n",
    "1. Minimizing the model complexity.\n",
    "2. Penalizing the loss function.\n",
    "3. Reducing model overfitting (add more bias to reduce model variance)"
   ]
  },
  {
   "cell_type": "markdown",
   "id": "40f6a5df",
   "metadata": {},
   "source": [
    "### Three main types of regularization:\n",
    "1. L1 Regularization:\n",
    "    - LASSO Regression\n",
    "2. L2 Regularization:\n",
    "    - Ridge Regression\n",
    "3. Combining L1 and L2:\n",
    "    - Elastic Net\n"
   ]
  },
  {
   "cell_type": "markdown",
   "id": "d59b925a",
   "metadata": {},
   "source": [
    "## L1 Regularization:\n",
    "- L1 Regularization adds a penalty equal to the absolute value of the magnitude of coefficients. \n",
    "    - Limits the size of the coefficients.\n",
    "    - Can yield sparse models where some coefficients can become zero."
   ]
  },
  {
   "cell_type": "markdown",
   "id": "b3976905",
   "metadata": {},
   "source": [
    "## L2 Regularization:\n",
    "- L2 regularization adds a penalty equal to the square of the magnitude of the coefficients.\n",
    "    - All coefficients are shrunk by the same factor.\n",
    "    - Does not necessarily eliminate coefficients.\n",
    "    "
   ]
  },
  {
   "cell_type": "markdown",
   "id": "1799d98a",
   "metadata": {},
   "source": [
    "## Elastic net:\n",
    "- Elastic net combines L1 and L2 with the addition of an alpha parameter determining the ratio between them."
   ]
  },
  {
   "cell_type": "code",
   "execution_count": null,
   "id": "94eb0823",
   "metadata": {},
   "outputs": [],
   "source": []
  }
 ],
 "metadata": {
  "kernelspec": {
   "display_name": "Python 3 (ipykernel)",
   "language": "python",
   "name": "python3"
  },
  "language_info": {
   "codemirror_mode": {
    "name": "ipython",
    "version": 3
   },
   "file_extension": ".py",
   "mimetype": "text/x-python",
   "name": "python",
   "nbconvert_exporter": "python",
   "pygments_lexer": "ipython3",
   "version": "3.9.7"
  }
 },
 "nbformat": 4,
 "nbformat_minor": 5
}
