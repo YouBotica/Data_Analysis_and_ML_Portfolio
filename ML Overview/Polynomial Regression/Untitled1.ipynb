{
 "cells": [
  {
   "cell_type": "markdown",
   "id": "50c9bfa4",
   "metadata": {},
   "source": [
    "## Overfitting and underfitting a.k.a Bias-Variance tradeoff:\n",
    "\n",
    "- We have seen that a higher order polynomial model performs significantly better than a standard lineal regression model.\n",
    "- But how can we choose the optimal degree of the polynomial?\n",
    "- What trade-offs are we to consider as we increase the model complexity?\n",
    "- We want to have a model that can generalize well to new unseen data, but can also account for variance and patterns in the known data\n",
    "- Underfitting = high bias\n",
    "- Overfitting = high variance\n",
    "\n"
   ]
  },
  {
   "cell_type": "markdown",
   "id": "063c7a84",
   "metadata": {},
   "source": [
    "### Overfitting:\n",
    "- The model fits too much to the noise of the data.\n",
    "- This often results in low on error training, but high error on test/validation sets.\n"
   ]
  },
  {
   "cell_type": "markdown",
   "id": "2fb6a881",
   "metadata": {},
   "source": [
    "### Underfitting:\n",
    "- Model does not capture the underlying trend of the data and does not fit the data well enough.\n",
    "- Low variance, but high bias.\n",
    "- Underfitting is often a result of an excessively simple model."
   ]
  },
  {
   "cell_type": "markdown",
   "id": "8022dc24",
   "metadata": {},
   "source": [
    "### Code for choosing the correct order of the fitting polynomial:\n",
    "\n",
    "1. Create the different order polynomials.\n",
    "2. Split polynomial features into training and test set.\n",
    "3. Fit on training data.\n",
    "4. Store/save the RMSE for both the training set and test set.\n",
    "5. Plot the results.\n"
   ]
  },
  {
   "cell_type": "code",
   "execution_count": 3,
   "id": "18812729",
   "metadata": {},
   "outputs": [],
   "source": [
    "\n",
    "\n",
    "\n",
    "train_rmse_errors = []\n",
    "test_rmse_errors = []\n",
    "\n",
    "for d in range(1,10):\n",
    "    poly_converter = PolynomialFe"
   ]
  },
  {
   "cell_type": "code",
   "execution_count": null,
   "id": "b0f7d5ce",
   "metadata": {},
   "outputs": [],
   "source": []
  }
 ],
 "metadata": {
  "kernelspec": {
   "display_name": "Python 3 (ipykernel)",
   "language": "python",
   "name": "python3"
  },
  "language_info": {
   "codemirror_mode": {
    "name": "ipython",
    "version": 3
   },
   "file_extension": ".py",
   "mimetype": "text/x-python",
   "name": "python",
   "nbconvert_exporter": "python",
   "pygments_lexer": "ipython3",
   "version": "3.9.7"
  }
 },
 "nbformat": 4,
 "nbformat_minor": 5
}
