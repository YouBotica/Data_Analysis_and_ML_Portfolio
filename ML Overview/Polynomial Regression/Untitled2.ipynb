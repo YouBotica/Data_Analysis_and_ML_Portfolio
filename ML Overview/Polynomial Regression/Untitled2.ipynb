{
 "cells": [
  {
   "cell_type": "markdown",
   "id": "6f538284",
   "metadata": {},
   "source": [
    "## Feature Scaling\n",
    "\n",
    "- Feature scaling improves the convergence of steepest descet algorithms, which do not possess the property of scale invariance.\n",
    "- If features are on different scales, certain weights may update faster than others since the feature values $x_j$ play a role in the weight updates.\n",
    "- Scaling the features so that their respective ranges are uniform is important in comparing measurements that have different units."
   ]
  },
  {
   "cell_type": "markdown",
   "id": "89debed6",
   "metadata": {},
   "source": [
    "### Caveats:\n",
    "- Must always scale new unseen data before feeding to the model.\n",
    "- Effects direct interpretability of feature coefficients.\n",
    "    - Easier to compare coefficients to one another, harder to relate back to original unscaled feature."
   ]
  },
  {
   "cell_type": "markdown",
   "id": "ad733038",
   "metadata": {},
   "source": [
    "### Feature Scaling Benefits:\n",
    "- Can lead to greater increases in performance.\n",
    "- Absolutely necessary for some models.\n",
    "- Virtually no real downside to scaling features."
   ]
  },
  {
   "cell_type": "markdown",
   "id": "784d2af5",
   "metadata": {},
   "source": [
    "### Two main ways to scale features:\n",
    "- Standarization: \n",
    "    - Rescales data to have a mean ($\\mu$) of 0 and a standard deviation of ($\\sigma$) 1.\n",
    "- Normalization:\n",
    "    - Rescales all data values to be between 0 and 1."
   ]
  },
  {
   "cell_type": "code",
   "execution_count": null,
   "id": "5b2a983e",
   "metadata": {},
   "outputs": [],
   "source": []
  }
 ],
 "metadata": {
  "kernelspec": {
   "display_name": "Python 3 (ipykernel)",
   "language": "python",
   "name": "python3"
  },
  "language_info": {
   "codemirror_mode": {
    "name": "ipython",
    "version": 3
   },
   "file_extension": ".py",
   "mimetype": "text/x-python",
   "name": "python",
   "nbconvert_exporter": "python",
   "pygments_lexer": "ipython3",
   "version": "3.9.7"
  }
 },
 "nbformat": 4,
 "nbformat_minor": 5
}
