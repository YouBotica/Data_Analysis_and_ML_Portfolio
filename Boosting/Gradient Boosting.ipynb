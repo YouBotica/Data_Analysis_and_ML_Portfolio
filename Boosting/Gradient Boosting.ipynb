{
 "cells": [
  {
   "cell_type": "markdown",
   "id": "89bbb41f",
   "metadata": {},
   "source": [
    "## Gradient Boosting:\n",
    "- It also uses the idea of linearly combining weak learners.\n",
    "- We can use it with other models apart from decision trees, but it works better with decision trees.\n",
    "- Gradient Boosting uses the residual error for learning.\n"
   ]
  },
  {
   "cell_type": "markdown",
   "id": "d27b765f",
   "metadata": {},
   "source": [
    "#### Gradient Boost vs AdaBoost:\n",
    "- Larger Trees allowed in Gradient Boosting.\n",
    "- Learning Rate coefficient same for all weak learners.\n",
    "- Gradual series learning is based on training on the residuals of the previous model.\n",
    "- Note, the learning rate is the same for each new  model in the series, it is not unique to each subsequent model (unlike AdaBoost's alpha coefficient).\n",
    "- Gradient Boosting is fairly robust to overfitting, allowing for the number of estimators to be set high be default (º100)"
   ]
  },
  {
   "cell_type": "markdown",
   "id": "aba4bf8e",
   "metadata": {},
   "source": [
    "#### Considerations:\n",
    "- The trade-off is training time.\n",
    "- A learning rate is between 0 and 1, which means a very low value would mean each subsequent tree has little to say meaning more trees need to be created, causing a longer computational time."
   ]
  },
  {
   "cell_type": "code",
   "execution_count": 10,
   "id": "7abcd4f7",
   "metadata": {},
   "outputs": [],
   "source": [
    "import numpy as np\n",
    "import pandas as pd\n",
    "import matplotlib.pyplot as plt\n",
    "import seaborn as sns"
   ]
  },
  {
   "cell_type": "code",
   "execution_count": 11,
   "id": "dff3bc76",
   "metadata": {},
   "outputs": [],
   "source": [
    "df = pd.read_csv('../DATA/mushrooms.csv')"
   ]
  },
  {
   "cell_type": "code",
   "execution_count": 12,
   "id": "c785a530",
   "metadata": {},
   "outputs": [
    {
     "data": {
      "text/html": [
       "<div>\n",
       "<style scoped>\n",
       "    .dataframe tbody tr th:only-of-type {\n",
       "        vertical-align: middle;\n",
       "    }\n",
       "\n",
       "    .dataframe tbody tr th {\n",
       "        vertical-align: top;\n",
       "    }\n",
       "\n",
       "    .dataframe thead th {\n",
       "        text-align: right;\n",
       "    }\n",
       "</style>\n",
       "<table border=\"1\" class=\"dataframe\">\n",
       "  <thead>\n",
       "    <tr style=\"text-align: right;\">\n",
       "      <th></th>\n",
       "      <th>class</th>\n",
       "      <th>cap-shape</th>\n",
       "      <th>cap-surface</th>\n",
       "      <th>cap-color</th>\n",
       "      <th>bruises</th>\n",
       "      <th>odor</th>\n",
       "      <th>gill-attachment</th>\n",
       "      <th>gill-spacing</th>\n",
       "      <th>gill-size</th>\n",
       "      <th>gill-color</th>\n",
       "      <th>...</th>\n",
       "      <th>stalk-surface-below-ring</th>\n",
       "      <th>stalk-color-above-ring</th>\n",
       "      <th>stalk-color-below-ring</th>\n",
       "      <th>veil-type</th>\n",
       "      <th>veil-color</th>\n",
       "      <th>ring-number</th>\n",
       "      <th>ring-type</th>\n",
       "      <th>spore-print-color</th>\n",
       "      <th>population</th>\n",
       "      <th>habitat</th>\n",
       "    </tr>\n",
       "  </thead>\n",
       "  <tbody>\n",
       "    <tr>\n",
       "      <th>0</th>\n",
       "      <td>p</td>\n",
       "      <td>x</td>\n",
       "      <td>s</td>\n",
       "      <td>n</td>\n",
       "      <td>t</td>\n",
       "      <td>p</td>\n",
       "      <td>f</td>\n",
       "      <td>c</td>\n",
       "      <td>n</td>\n",
       "      <td>k</td>\n",
       "      <td>...</td>\n",
       "      <td>s</td>\n",
       "      <td>w</td>\n",
       "      <td>w</td>\n",
       "      <td>p</td>\n",
       "      <td>w</td>\n",
       "      <td>o</td>\n",
       "      <td>p</td>\n",
       "      <td>k</td>\n",
       "      <td>s</td>\n",
       "      <td>u</td>\n",
       "    </tr>\n",
       "    <tr>\n",
       "      <th>1</th>\n",
       "      <td>e</td>\n",
       "      <td>x</td>\n",
       "      <td>s</td>\n",
       "      <td>y</td>\n",
       "      <td>t</td>\n",
       "      <td>a</td>\n",
       "      <td>f</td>\n",
       "      <td>c</td>\n",
       "      <td>b</td>\n",
       "      <td>k</td>\n",
       "      <td>...</td>\n",
       "      <td>s</td>\n",
       "      <td>w</td>\n",
       "      <td>w</td>\n",
       "      <td>p</td>\n",
       "      <td>w</td>\n",
       "      <td>o</td>\n",
       "      <td>p</td>\n",
       "      <td>n</td>\n",
       "      <td>n</td>\n",
       "      <td>g</td>\n",
       "    </tr>\n",
       "    <tr>\n",
       "      <th>2</th>\n",
       "      <td>e</td>\n",
       "      <td>b</td>\n",
       "      <td>s</td>\n",
       "      <td>w</td>\n",
       "      <td>t</td>\n",
       "      <td>l</td>\n",
       "      <td>f</td>\n",
       "      <td>c</td>\n",
       "      <td>b</td>\n",
       "      <td>n</td>\n",
       "      <td>...</td>\n",
       "      <td>s</td>\n",
       "      <td>w</td>\n",
       "      <td>w</td>\n",
       "      <td>p</td>\n",
       "      <td>w</td>\n",
       "      <td>o</td>\n",
       "      <td>p</td>\n",
       "      <td>n</td>\n",
       "      <td>n</td>\n",
       "      <td>m</td>\n",
       "    </tr>\n",
       "    <tr>\n",
       "      <th>3</th>\n",
       "      <td>p</td>\n",
       "      <td>x</td>\n",
       "      <td>y</td>\n",
       "      <td>w</td>\n",
       "      <td>t</td>\n",
       "      <td>p</td>\n",
       "      <td>f</td>\n",
       "      <td>c</td>\n",
       "      <td>n</td>\n",
       "      <td>n</td>\n",
       "      <td>...</td>\n",
       "      <td>s</td>\n",
       "      <td>w</td>\n",
       "      <td>w</td>\n",
       "      <td>p</td>\n",
       "      <td>w</td>\n",
       "      <td>o</td>\n",
       "      <td>p</td>\n",
       "      <td>k</td>\n",
       "      <td>s</td>\n",
       "      <td>u</td>\n",
       "    </tr>\n",
       "    <tr>\n",
       "      <th>4</th>\n",
       "      <td>e</td>\n",
       "      <td>x</td>\n",
       "      <td>s</td>\n",
       "      <td>g</td>\n",
       "      <td>f</td>\n",
       "      <td>n</td>\n",
       "      <td>f</td>\n",
       "      <td>w</td>\n",
       "      <td>b</td>\n",
       "      <td>k</td>\n",
       "      <td>...</td>\n",
       "      <td>s</td>\n",
       "      <td>w</td>\n",
       "      <td>w</td>\n",
       "      <td>p</td>\n",
       "      <td>w</td>\n",
       "      <td>o</td>\n",
       "      <td>e</td>\n",
       "      <td>n</td>\n",
       "      <td>a</td>\n",
       "      <td>g</td>\n",
       "    </tr>\n",
       "  </tbody>\n",
       "</table>\n",
       "<p>5 rows × 23 columns</p>\n",
       "</div>"
      ],
      "text/plain": [
       "  class cap-shape cap-surface cap-color bruises odor gill-attachment  \\\n",
       "0     p         x           s         n       t    p               f   \n",
       "1     e         x           s         y       t    a               f   \n",
       "2     e         b           s         w       t    l               f   \n",
       "3     p         x           y         w       t    p               f   \n",
       "4     e         x           s         g       f    n               f   \n",
       "\n",
       "  gill-spacing gill-size gill-color  ... stalk-surface-below-ring  \\\n",
       "0            c         n          k  ...                        s   \n",
       "1            c         b          k  ...                        s   \n",
       "2            c         b          n  ...                        s   \n",
       "3            c         n          n  ...                        s   \n",
       "4            w         b          k  ...                        s   \n",
       "\n",
       "  stalk-color-above-ring stalk-color-below-ring veil-type veil-color  \\\n",
       "0                      w                      w         p          w   \n",
       "1                      w                      w         p          w   \n",
       "2                      w                      w         p          w   \n",
       "3                      w                      w         p          w   \n",
       "4                      w                      w         p          w   \n",
       "\n",
       "  ring-number ring-type spore-print-color population habitat  \n",
       "0           o         p                 k          s       u  \n",
       "1           o         p                 n          n       g  \n",
       "2           o         p                 n          n       m  \n",
       "3           o         p                 k          s       u  \n",
       "4           o         e                 n          a       g  \n",
       "\n",
       "[5 rows x 23 columns]"
      ]
     },
     "execution_count": 12,
     "metadata": {},
     "output_type": "execute_result"
    }
   ],
   "source": [
    "df.head()\n"
   ]
  },
  {
   "cell_type": "code",
   "execution_count": 13,
   "id": "7c811e01",
   "metadata": {},
   "outputs": [],
   "source": [
    "X = df.drop('class', axis=1)"
   ]
  },
  {
   "cell_type": "code",
   "execution_count": 14,
   "id": "f69fc48f",
   "metadata": {},
   "outputs": [],
   "source": [
    "X = pd.get_dummies(X, drop_first=True)"
   ]
  },
  {
   "cell_type": "code",
   "execution_count": 15,
   "id": "278cc2c0",
   "metadata": {},
   "outputs": [],
   "source": [
    "y = df['class']"
   ]
  },
  {
   "cell_type": "code",
   "execution_count": 16,
   "id": "12360a12",
   "metadata": {},
   "outputs": [],
   "source": [
    "from sklearn.model_selection import train_test_split"
   ]
  },
  {
   "cell_type": "code",
   "execution_count": 17,
   "id": "acfd1c81",
   "metadata": {},
   "outputs": [],
   "source": [
    "X_train, X_test, y_train, y_test = train_test_split(X, y, test_size=0.15, random_state=101)"
   ]
  },
  {
   "cell_type": "code",
   "execution_count": 18,
   "id": "c83b01f1",
   "metadata": {},
   "outputs": [],
   "source": [
    "from sklearn.ensemble import GradientBoostingClassifier"
   ]
  },
  {
   "cell_type": "code",
   "execution_count": 19,
   "id": "1ad8829c",
   "metadata": {},
   "outputs": [],
   "source": [
    "from sklearn.model_selection import GridSearchCV"
   ]
  },
  {
   "cell_type": "code",
   "execution_count": 20,
   "id": "a2462bcd",
   "metadata": {},
   "outputs": [],
   "source": [
    "param_grid = {'n_estimators': [50, 100],\n",
    "             'learning_rate': [0.1, 0.05, 0.2],\n",
    "              'max_depth': [3,4,5],\n",
    "             }"
   ]
  },
  {
   "cell_type": "code",
   "execution_count": 21,
   "id": "3d844347",
   "metadata": {},
   "outputs": [],
   "source": [
    "gb_model = GradientBoostingClassifier()"
   ]
  },
  {
   "cell_type": "code",
   "execution_count": 22,
   "id": "315ff18c",
   "metadata": {},
   "outputs": [],
   "source": [
    "grid = GridSearchCV(gb_model, param_grid)"
   ]
  },
  {
   "cell_type": "code",
   "execution_count": 23,
   "id": "24b30b0b",
   "metadata": {},
   "outputs": [
    {
     "data": {
      "text/plain": [
       "GridSearchCV(estimator=GradientBoostingClassifier(),\n",
       "             param_grid={'learning_rate': [0.1, 0.05, 0.2],\n",
       "                         'max_depth': [3, 4, 5], 'n_estimators': [50, 100]})"
      ]
     },
     "execution_count": 23,
     "metadata": {},
     "output_type": "execute_result"
    }
   ],
   "source": [
    "grid.fit(X_train, y_train)"
   ]
  },
  {
   "cell_type": "code",
   "execution_count": 25,
   "id": "59f49830",
   "metadata": {},
   "outputs": [
    {
     "data": {
      "text/plain": [
       "{'learning_rate': 0.1, 'max_depth': 3, 'n_estimators': 100}"
      ]
     },
     "execution_count": 25,
     "metadata": {},
     "output_type": "execute_result"
    }
   ],
   "source": [
    "grid.best_params_"
   ]
  },
  {
   "cell_type": "code",
   "execution_count": 26,
   "id": "6709fffe",
   "metadata": {},
   "outputs": [],
   "source": [
    "from sklearn.metrics import classification_report, plot_confusion_matrix, accuracy_score"
   ]
  },
  {
   "cell_type": "code",
   "execution_count": 27,
   "id": "882f7247",
   "metadata": {},
   "outputs": [],
   "source": [
    "predictions = grid.predict(X_test)"
   ]
  },
  {
   "cell_type": "code",
   "execution_count": 28,
   "id": "961cca2a",
   "metadata": {},
   "outputs": [
    {
     "data": {
      "text/plain": [
       "array(['p', 'e', 'p', ..., 'p', 'p', 'e'], dtype=object)"
      ]
     },
     "execution_count": 28,
     "metadata": {},
     "output_type": "execute_result"
    }
   ],
   "source": [
    "predictions"
   ]
  },
  {
   "cell_type": "code",
   "execution_count": 29,
   "id": "4ca8717e",
   "metadata": {},
   "outputs": [
    {
     "name": "stdout",
     "output_type": "stream",
     "text": [
      "              precision    recall  f1-score   support\n",
      "\n",
      "           e       1.00      1.00      1.00       655\n",
      "           p       1.00      1.00      1.00       564\n",
      "\n",
      "    accuracy                           1.00      1219\n",
      "   macro avg       1.00      1.00      1.00      1219\n",
      "weighted avg       1.00      1.00      1.00      1219\n",
      "\n"
     ]
    }
   ],
   "source": [
    "print(classification_report(y_test, predictions))"
   ]
  },
  {
   "cell_type": "code",
   "execution_count": 30,
   "id": "7ab8e91e",
   "metadata": {},
   "outputs": [
    {
     "data": {
      "text/plain": [
       "array([2.91150176e-04, 4.52172074e-16, 2.21503189e-17, 0.00000000e+00,\n",
       "       7.13761378e-17, 1.04524302e-03, 1.18312069e-05, 5.06011038e-06,\n",
       "       0.00000000e+00, 1.57192282e-17, 4.45515798e-18, 2.49345344e-20,\n",
       "       1.56850665e-17, 2.85267978e-21, 0.00000000e+00, 1.60530529e-06,\n",
       "       2.31055039e-03, 5.20885026e-02, 1.84253604e-04, 1.01380190e-02,\n",
       "       1.82499853e-02, 1.88117221e-05, 6.14744334e-01, 8.63939501e-03,\n",
       "       0.00000000e+00, 0.00000000e+00, 7.78699405e-18, 1.27312190e-02,\n",
       "       1.08493591e-02, 0.00000000e+00, 2.49797723e-17, 0.00000000e+00,\n",
       "       1.32168998e-17, 0.00000000e+00, 0.00000000e+00, 1.52786007e-17,\n",
       "       2.77440319e-16, 4.69576919e-23, 4.36800450e-19, 2.44179998e-21,\n",
       "       1.30388597e-17, 8.42442128e-04, 1.35976774e-01, 0.00000000e+00,\n",
       "       1.94579377e-02, 3.67495311e-03, 3.61085297e-03, 4.95063766e-06,\n",
       "       3.60117275e-05, 0.00000000e+00, 4.67931920e-02, 3.13940648e-03,\n",
       "       0.00000000e+00, 0.00000000e+00, 3.46490365e-04, 0.00000000e+00,\n",
       "       0.00000000e+00, 5.62862863e-04, 0.00000000e+00, 3.91917804e-05,\n",
       "       0.00000000e+00, 0.00000000e+00, 5.33104127e-05, 0.00000000e+00,\n",
       "       0.00000000e+00, 0.00000000e+00, 3.02342639e-03, 0.00000000e+00,\n",
       "       0.00000000e+00, 1.70638552e-06, 1.47680673e-03, 8.27598823e-06,\n",
       "       8.43895349e-05, 0.00000000e+00, 2.97638898e-04, 6.49883706e-04,\n",
       "       1.12303771e-02, 2.14129035e-04, 2.09052828e-04, 0.00000000e+00,\n",
       "       3.04953583e-02, 4.10000880e-03, 4.86768755e-04, 0.00000000e+00,\n",
       "       1.17434515e-03, 0.00000000e+00, 6.07840776e-08, 1.35041668e-05,\n",
       "       6.76523997e-04, 5.49824739e-17, 0.00000000e+00, 1.82736328e-16,\n",
       "       0.00000000e+00, 1.00485103e-05, 0.00000000e+00])"
      ]
     },
     "execution_count": 30,
     "metadata": {},
     "output_type": "execute_result"
    }
   ],
   "source": [
    "grid.best_estimator_.feature_importances_"
   ]
  },
  {
   "cell_type": "code",
   "execution_count": 31,
   "id": "49f5a825",
   "metadata": {},
   "outputs": [],
   "source": [
    "feat_import = grid.best_estimator_.feature_importances_"
   ]
  },
  {
   "cell_type": "code",
   "execution_count": 32,
   "id": "c77b3ca5",
   "metadata": {},
   "outputs": [],
   "source": [
    "imp_feat = pd.DataFrame(index=X.columns,\n",
    "                       data=feat_import,\n",
    "                        columns=['Importance']\n",
    "                       )"
   ]
  },
  {
   "cell_type": "code",
   "execution_count": 35,
   "id": "4279c7be",
   "metadata": {},
   "outputs": [
    {
     "data": {
      "text/html": [
       "<div>\n",
       "<style scoped>\n",
       "    .dataframe tbody tr th:only-of-type {\n",
       "        vertical-align: middle;\n",
       "    }\n",
       "\n",
       "    .dataframe tbody tr th {\n",
       "        vertical-align: top;\n",
       "    }\n",
       "\n",
       "    .dataframe thead th {\n",
       "        text-align: right;\n",
       "    }\n",
       "</style>\n",
       "<table border=\"1\" class=\"dataframe\">\n",
       "  <thead>\n",
       "    <tr style=\"text-align: right;\">\n",
       "      <th></th>\n",
       "      <th>Importance</th>\n",
       "    </tr>\n",
       "  </thead>\n",
       "  <tbody>\n",
       "    <tr>\n",
       "      <th>odor_n</th>\n",
       "      <td>0.614744</td>\n",
       "    </tr>\n",
       "    <tr>\n",
       "      <th>stalk-root_c</th>\n",
       "      <td>0.135977</td>\n",
       "    </tr>\n",
       "    <tr>\n",
       "      <th>bruises_t</th>\n",
       "      <td>0.052089</td>\n",
       "    </tr>\n",
       "    <tr>\n",
       "      <th>stalk-surface-below-ring_y</th>\n",
       "      <td>0.046793</td>\n",
       "    </tr>\n",
       "    <tr>\n",
       "      <th>spore-print-color_r</th>\n",
       "      <td>0.030495</td>\n",
       "    </tr>\n",
       "    <tr>\n",
       "      <th>...</th>\n",
       "      <td>...</td>\n",
       "    </tr>\n",
       "    <tr>\n",
       "      <th>stalk-color-below-ring_w</th>\n",
       "      <td>0.000000</td>\n",
       "    </tr>\n",
       "    <tr>\n",
       "      <th>veil-color_o</th>\n",
       "      <td>0.000000</td>\n",
       "    </tr>\n",
       "    <tr>\n",
       "      <th>veil-color_w</th>\n",
       "      <td>0.000000</td>\n",
       "    </tr>\n",
       "    <tr>\n",
       "      <th>gill-color_e</th>\n",
       "      <td>0.000000</td>\n",
       "    </tr>\n",
       "    <tr>\n",
       "      <th>habitat_w</th>\n",
       "      <td>0.000000</td>\n",
       "    </tr>\n",
       "  </tbody>\n",
       "</table>\n",
       "<p>95 rows × 1 columns</p>\n",
       "</div>"
      ],
      "text/plain": [
       "                            Importance\n",
       "odor_n                        0.614744\n",
       "stalk-root_c                  0.135977\n",
       "bruises_t                     0.052089\n",
       "stalk-surface-below-ring_y    0.046793\n",
       "spore-print-color_r           0.030495\n",
       "...                                ...\n",
       "stalk-color-below-ring_w      0.000000\n",
       "veil-color_o                  0.000000\n",
       "veil-color_w                  0.000000\n",
       "gill-color_e                  0.000000\n",
       "habitat_w                     0.000000\n",
       "\n",
       "[95 rows x 1 columns]"
      ]
     },
     "execution_count": 35,
     "metadata": {},
     "output_type": "execute_result"
    }
   ],
   "source": [
    "imp_feat.sort_values(by='Importance', ascending=False)"
   ]
  },
  {
   "cell_type": "code",
   "execution_count": 38,
   "id": "5c015a49",
   "metadata": {},
   "outputs": [],
   "source": [
    "most_important_features = imp_feat[imp_feat['Importance'] > 0.005].sort_values(by='Importance', ascending=False)"
   ]
  },
  {
   "cell_type": "code",
   "execution_count": 43,
   "id": "9effed60",
   "metadata": {},
   "outputs": [
    {
     "data": {
      "image/png": "[encoded data removed]",
      "text/plain": [
       "<Figure size 1800x900 with 1 Axes>"
      ]
     },
     "metadata": {
      "needs_background": "light"
     },
     "output_type": "display_data"
    }
   ],
   "source": [
    "\n",
    "plt.figure(figsize=(12,6), dpi=150)\n",
    "sns.barplot(data=most_important_features,\n",
    "            x=most_important_features.index,\n",
    "            y='Importance'\n",
    ")\n",
    "\n",
    "plt.xticks(rotation=90);"
   ]
  },
  {
   "cell_type": "code",
   "execution_count": null,
   "id": "ca9e86e4",
   "metadata": {},
   "outputs": [],
   "source": []
  }
 ],
 "metadata": {
  "kernelspec": {
   "display_name": "Python 3 (ipykernel)",
   "language": "python",
   "name": "python3"
  },
  "language_info": {
   "codemirror_mode": {
    "name": "ipython",
    "version": 3
   },
   "file_extension": ".py",
   "mimetype": "text/x-python",
   "name": "python",
   "nbconvert_exporter": "python",
   "pygments_lexer": "ipython3",
   "version": "3.9.7"
  }
 },
 "nbformat": 4,
 "nbformat_minor": 5
}
