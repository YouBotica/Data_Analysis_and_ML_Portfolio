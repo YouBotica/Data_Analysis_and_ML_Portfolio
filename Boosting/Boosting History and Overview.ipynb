{
 "cells": [
  {
   "cell_type": "markdown",
   "id": "2776c41a",
   "metadata": {},
   "source": [
    "## Boosting History and Overview\n",
    "\n",
    "- It is not actually a ML algorithm, it is a methodology applied to an existing machine learning algorithm, most commonly applied to the decision tree.\n"
   ]
  },
  {
   "cell_type": "code",
   "execution_count": null,
   "id": "28e37dc7",
   "metadata": {},
   "outputs": [],
   "source": []
  }
 ],
 "metadata": {
  "kernelspec": {
   "display_name": "Python 3 (ipykernel)",
   "language": "python",
   "name": "python3"
  },
  "language_info": {
   "codemirror_mode": {
    "name": "ipython",
    "version": 3
   },
   "file_extension": ".py",
   "mimetype": "text/x-python",
   "name": "python",
   "nbconvert_exporter": "python",
   "pygments_lexer": "ipython3",
   "version": "3.9.7"
  }
 },
 "nbformat": 4,
 "nbformat_minor": 5
}
