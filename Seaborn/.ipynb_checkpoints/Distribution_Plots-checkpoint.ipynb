{
 "cells": [
  {
   "cell_type": "markdown",
   "id": "b7cfcf5c",
   "metadata": {},
   "source": [
    "## Distribution plots:\n",
    "\n",
    "- Distributions plot help display a single continuous feature, and help visualize properties such as deviation and average values.\n",
    "\n",
    "There are 3 main type of distribution plots:\n",
    "\n",
    "1. Rug plot\n",
    "2. Histogram\n",
    "3. KDE plot"
   ]
  },
  {
   "cell_type": "markdown",
   "id": "7314a338",
   "metadata": {},
   "source": [
    "### Rug Plot:\n",
    "\n",
    "Adds a single tick for every value. One tick per data point.\n",
    "However, the y axis is not really interpretable, but you can easily see the min and max value of a distribution.\n",
    "\n",
    "- If we count how many ticks there are per various x-ranges, we can create a histogram."
   ]
  },
  {
   "cell_type": "markdown",
   "id": "bc8af212",
   "metadata": {},
   "source": [
    "### Histograms:\n",
    "\n",
    "These count the ticks of the rug plot."
   ]
  },
  {
   "cell_type": "markdown",
   "id": "9739cf44",
   "metadata": {},
   "source": [
    "### KDE:\n",
    "These create a continuous plot based on the histograms, kind of like a Gauss distribution.\n",
    "The kernel allows you to decide which probability distribution function you want to use for the KDE plot.\n",
    "You can also change the kernel and the bandwidth. The bandwidth will show more or less of variance in your plot."
   ]
  },
  {
   "cell_type": "code",
   "execution_count": 1,
   "id": "eb11cb36",
   "metadata": {},
   "outputs": [],
   "source": [
    "import numpy as np\n",
    "import pandas as pd\n",
    "import matplotlib.pyplot as plt\n",
    "import seaborn as sns"
   ]
  },
  {
   "cell_type": "code",
   "execution_count": 2,
   "id": "bc39698a",
   "metadata": {},
   "outputs": [],
   "source": [
    "df = pd.read_csv('/home/legacy/anaconda3/Data Science Master Class/UNZIP_FOR_NOTEBOOKS_FINAL/05-Seaborn/dm_office_sales.csv')"
   ]
  },
  {
   "cell_type": "code",
   "execution_count": 3,
   "id": "ba5e51d9",
   "metadata": {},
   "outputs": [
    {
     "data": {
      "text/html": [
       "<div>\n",
       "<style scoped>\n",
       "    .dataframe tbody tr th:only-of-type {\n",
       "        vertical-align: middle;\n",
       "    }\n",
       "\n",
       "    .dataframe tbody tr th {\n",
       "        vertical-align: top;\n",
       "    }\n",
       "\n",
       "    .dataframe thead th {\n",
       "        text-align: right;\n",
       "    }\n",
       "</style>\n",
       "<table border=\"1\" class=\"dataframe\">\n",
       "  <thead>\n",
       "    <tr style=\"text-align: right;\">\n",
       "      <th></th>\n",
       "      <th>division</th>\n",
       "      <th>level of education</th>\n",
       "      <th>training level</th>\n",
       "      <th>work experience</th>\n",
       "      <th>salary</th>\n",
       "      <th>sales</th>\n",
       "    </tr>\n",
       "  </thead>\n",
       "  <tbody>\n",
       "    <tr>\n",
       "      <th>0</th>\n",
       "      <td>printers</td>\n",
       "      <td>some college</td>\n",
       "      <td>2</td>\n",
       "      <td>6</td>\n",
       "      <td>91684</td>\n",
       "      <td>372302</td>\n",
       "    </tr>\n",
       "    <tr>\n",
       "      <th>1</th>\n",
       "      <td>printers</td>\n",
       "      <td>associate's degree</td>\n",
       "      <td>2</td>\n",
       "      <td>10</td>\n",
       "      <td>119679</td>\n",
       "      <td>495660</td>\n",
       "    </tr>\n",
       "    <tr>\n",
       "      <th>2</th>\n",
       "      <td>peripherals</td>\n",
       "      <td>high school</td>\n",
       "      <td>0</td>\n",
       "      <td>9</td>\n",
       "      <td>82045</td>\n",
       "      <td>320453</td>\n",
       "    </tr>\n",
       "    <tr>\n",
       "      <th>3</th>\n",
       "      <td>office supplies</td>\n",
       "      <td>associate's degree</td>\n",
       "      <td>2</td>\n",
       "      <td>5</td>\n",
       "      <td>92949</td>\n",
       "      <td>377148</td>\n",
       "    </tr>\n",
       "    <tr>\n",
       "      <th>4</th>\n",
       "      <td>office supplies</td>\n",
       "      <td>high school</td>\n",
       "      <td>1</td>\n",
       "      <td>5</td>\n",
       "      <td>71280</td>\n",
       "      <td>312802</td>\n",
       "    </tr>\n",
       "  </tbody>\n",
       "</table>\n",
       "</div>"
      ],
      "text/plain": [
       "          division  level of education  training level  work experience  \\\n",
       "0         printers        some college               2                6   \n",
       "1         printers  associate's degree               2               10   \n",
       "2      peripherals         high school               0                9   \n",
       "3  office supplies  associate's degree               2                5   \n",
       "4  office supplies         high school               1                5   \n",
       "\n",
       "   salary   sales  \n",
       "0   91684  372302  \n",
       "1  119679  495660  \n",
       "2   82045  320453  \n",
       "3   92949  377148  \n",
       "4   71280  312802  "
      ]
     },
     "execution_count": 3,
     "metadata": {},
     "output_type": "execute_result"
    }
   ],
   "source": [
    "df.head()"
   ]
  },
  {
   "cell_type": "markdown",
   "id": "0423863e",
   "metadata": {},
   "source": [
    "## Rug plot:"
   ]
  },
  {
   "cell_type": "code",
   "execution_count": 5,
   "id": "75972b84",
   "metadata": {},
   "outputs": [
    {
     "data": {
      "text/plain": [
       "<AxesSubplot:xlabel='salary'>"
      ]
     },
     "execution_count": 5,
     "metadata": {},
     "output_type": "execute_result"
    },
    {
     "data": {
      "image/png": "[encoded data removed]",
      "text/plain": [
       "<Figure size 432x288 with 1 Axes>"
      ]
     },
     "metadata": {
      "needs_background": "light"
     },
     "output_type": "display_data"
    }
   ],
   "source": [
    "sns.rugplot(x='salary', data=df, height=0.5) # Specify height as a percentage"
   ]
  },
  {
   "cell_type": "code",
   "execution_count": 6,
   "id": "5278491d",
   "metadata": {},
   "outputs": [
    {
     "data": {
      "text/plain": [
       "<seaborn.axisgrid.FacetGrid at 0x7fcad2b68400>"
      ]
     },
     "execution_count": 6,
     "metadata": {},
     "output_type": "execute_result"
    },
    {
     "data": {
      "image/png": "[encoded data removed]",
      "text/plain": [
       "<Figure size 360x360 with 1 Axes>"
      ]
     },
     "metadata": {
      "needs_background": "light"
     },
     "output_type": "display_data"
    }
   ],
   "source": [
    "sns.displot(data=df, x='salary')"
   ]
  },
  {
   "cell_type": "code",
   "execution_count": 7,
   "id": "fa53e4d0",
   "metadata": {},
   "outputs": [
    {
     "data": {
      "text/plain": [
       "<seaborn.axisgrid.FacetGrid at 0x7fcad2ad70d0>"
      ]
     },
     "execution_count": 7,
     "metadata": {},
     "output_type": "execute_result"
    },
    {
     "data": {
      "image/png": "[encoded data removed]",
      "text/plain": [
       "<Figure size 360x360 with 1 Axes>"
      ]
     },
     "metadata": {
      "needs_background": "light"
     },
     "output_type": "display_data"
    }
   ],
   "source": [
    "# You can edit the number of bins by using:\n",
    "sns.displot(data=df, x='salary', bins=5)"
   ]
  },
  {
   "cell_type": "code",
   "execution_count": 10,
   "id": "a9e654f6",
   "metadata": {},
   "outputs": [
    {
     "data": {
      "text/plain": [
       "<seaborn.axisgrid.FacetGrid at 0x7fcad2904580>"
      ]
     },
     "execution_count": 10,
     "metadata": {},
     "output_type": "execute_result"
    },
    {
     "data": {
      "image/png": "[encoded data removed]",
      "text/plain": [
       "<Figure size 360x360 with 1 Axes>"
      ]
     },
     "metadata": {},
     "output_type": "display_data"
    }
   ],
   "source": [
    "# With a useful grid:\n",
    "sns.set(style='darkgrid') # It sets the style for the rest of the notebook, be aware.\n",
    "sns.displot(data=df, x='salary', bins=20)"
   ]
  },
  {
   "cell_type": "code",
   "execution_count": null,
   "id": "0a49138f",
   "metadata": {},
   "outputs": [],
   "source": []
  }
 ],
 "metadata": {
  "kernelspec": {
   "display_name": "Python 3 (ipykernel)",
   "language": "python",
   "name": "python3"
  },
  "language_info": {
   "codemirror_mode": {
    "name": "ipython",
    "version": 3
   },
   "file_extension": ".py",
   "mimetype": "text/x-python",
   "name": "python",
   "nbconvert_exporter": "python",
   "pygments_lexer": "ipython3",
   "version": "3.9.7"
  }
 },
 "nbformat": 4,
 "nbformat_minor": 5
}
